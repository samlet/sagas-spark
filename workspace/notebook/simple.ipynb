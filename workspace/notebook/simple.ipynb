{
 "cells": [
  {
   "cell_type": "code",
   "execution_count": 1,
   "metadata": {
    "ExecuteTime": {
     "end_time": "2019-01-25T17:44:19.508487Z",
     "start_time": "2019-01-25T17:44:19.477407Z"
    }
   },
   "outputs": [
    {
     "name": "stdout",
     "output_type": "stream",
     "text": [
      "hello\n",
      "(3, 0, 1)\n"
     ]
    }
   ],
   "source": [
    "import redis\n",
    "print('hello')\n",
    "print(redis.VERSION)"
   ]
  },
  {
   "cell_type": "code",
   "execution_count": 6,
   "metadata": {},
   "outputs": [
    {
     "data": {
      "text/plain": [
       "{'load_extensions': {'nbextensions_configurator/config_menu/main': True},\n",
       " 'ExecuteTime': {'display_absolute_timestamps': False,\n",
       "  'relative_timing_update_period': 5,\n",
       "  'template': {'executed': 'started ${start_time}, finished in ${duration}'}}}"
      ]
     },
     "execution_count": 6,
     "metadata": {},
     "output_type": "execute_result"
    }
   ],
   "source": [
    "from notebook.services.config import ConfigManager\n",
    "ConfigManager().update('notebook', {'ExecuteTime': {\n",
    "    'display_absolute_timestamps': False,\n",
    "    'relative_timing_update_period': 5,\n",
    "    'template': {\n",
    "        'executed': 'started ${start_time}, finished in ${duration}',\n",
    "    }\n",
    "}})"
   ]
  }
 ],
 "metadata": {
  "kernelspec": {
   "display_name": "Python 3",
   "language": "python",
   "name": "python3"
  },
  "language_info": {
   "codemirror_mode": {
    "name": "ipython",
    "version": 3
   },
   "file_extension": ".py",
   "mimetype": "text/x-python",
   "name": "python",
   "nbconvert_exporter": "python",
   "pygments_lexer": "ipython3",
   "version": "3.6.7"
  }
 },
 "nbformat": 4,
 "nbformat_minor": 2
}
