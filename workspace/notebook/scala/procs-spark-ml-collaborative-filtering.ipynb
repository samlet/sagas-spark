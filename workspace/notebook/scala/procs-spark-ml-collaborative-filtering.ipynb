{
 "cells": [
  {
   "cell_type": "code",
   "execution_count": 5,
   "metadata": {
    "ExecuteTime": {
     "end_time": "2019-02-07T07:55:27.156330Z",
     "start_time": "2019-02-07T07:55:23.511Z"
    }
   },
   "outputs": [
    {
     "data": {
      "text/plain": [
       "spark = org.apache.spark.sql.SparkSession@45b792ee\n"
      ]
     },
     "metadata": {},
     "output_type": "display_data"
    },
    {
     "data": {
      "text/plain": [
       "org.apache.spark.sql.SparkSession@45b792ee"
      ]
     },
     "execution_count": 5,
     "metadata": {},
     "output_type": "execute_result"
    }
   ],
   "source": [
    "val spark = SparkSession.builder.appName(\"Simple Application\").getOrCreate()\n",
    "// For implicit conversions from RDDs to DataFrames\n",
    "import spark.implicits._\n",
    "import org.apache.spark.sql.types._\n",
    "import org.apache.spark.sql._"
   ]
  },
  {
   "cell_type": "code",
   "execution_count": 6,
   "metadata": {
    "ExecuteTime": {
     "end_time": "2019-02-07T07:55:31.257153Z",
     "start_time": "2019-02-07T07:55:30.393Z"
    }
   },
   "outputs": [
    {
     "data": {
      "text/plain": [
       "spark_home = /Users/xiaofeiwu/jcloud/assets/langs/workspace/spark/spark-2.4.0-bin-hadoop2.7\n"
      ]
     },
     "metadata": {},
     "output_type": "display_data"
    },
    {
     "data": {
      "text/plain": [
       "/Users/xiaofeiwu/jcloud/assets/langs/workspace/spark/spark-2.4.0-bin-hadoop2.7"
      ]
     },
     "execution_count": 6,
     "metadata": {},
     "output_type": "execute_result"
    }
   ],
   "source": [
    "val spark_home=sys.env(\"SPARK_HOME\")"
   ]
  },
  {
   "cell_type": "code",
   "execution_count": 9,
   "metadata": {
    "ExecuteTime": {
     "end_time": "2019-02-07T07:56:06.491168Z",
     "start_time": "2019-02-07T07:56:05.821Z"
    }
   },
   "outputs": [
    {
     "data": {
      "text/plain": [
       "defined class Rating\n"
      ]
     },
     "metadata": {},
     "output_type": "display_data"
    }
   ],
   "source": [
    "case class Rating(userId: Int, movieId: Int, rating: Float, timestamp: Long)"
   ]
  },
  {
   "cell_type": "code",
   "execution_count": 10,
   "metadata": {
    "ExecuteTime": {
     "end_time": "2019-02-07T07:56:33.855569Z",
     "start_time": "2019-02-07T07:56:09.142Z"
    }
   },
   "outputs": [
    {
     "name": "stdout",
     "output_type": "stream",
     "text": [
      "Root-mean-square error = 1.8438530830091973\n"
     ]
    },
    {
     "data": {
      "text/plain": [
       "ratings = [userId: int, movieId: int ... 2 more fields]\n",
       "training = [userId: int, movieId: int ... 2 more fields]\n",
       "test = [userId: int, movieId: int ... 2 more fields]\n",
       "als = als_3329f7cddff7\n",
       "model = als_3329f7cddff7\n",
       "predictions = [userId: int, movieId: int ... 3 more fields]\n",
       "evaluator = regEval_5be120fc90c3\n",
       "rmse = 1.8438530830091973\n"
      ]
     },
     "metadata": {},
     "output_type": "display_data"
    },
    {
     "data": {
      "text/plain": [
       "parseRating: (str: String)Rating\n",
       "userRe...\n"
      ]
     },
     "metadata": {},
     "output_type": "display_data"
    },
    {
     "data": {
      "text/plain": [
       "1.8438530830091973"
      ]
     },
     "execution_count": 10,
     "metadata": {},
     "output_type": "execute_result"
    }
   ],
   "source": [
    "import org.apache.spark.ml.evaluation.RegressionEvaluator\n",
    "import org.apache.spark.ml.recommendation.ALS\n",
    "\n",
    "def parseRating(str: String): Rating = {\n",
    "  val fields = str.split(\"::\")\n",
    "  assert(fields.size == 4)\n",
    "  Rating(fields(0).toInt, fields(1).toInt, fields(2).toFloat, fields(3).toLong)\n",
    "}\n",
    "\n",
    "val ratings = spark.read.textFile(spark_home+\"/data/mllib/als/sample_movielens_ratings.txt\")\n",
    "  .map(parseRating)\n",
    "  .toDF()\n",
    "val Array(training, test) = ratings.randomSplit(Array(0.8, 0.2))\n",
    "\n",
    "// Build the recommendation model using ALS on the training data\n",
    "val als = new ALS()\n",
    "  .setMaxIter(5)\n",
    "  .setRegParam(0.01)\n",
    "  .setUserCol(\"userId\")\n",
    "  .setItemCol(\"movieId\")\n",
    "  .setRatingCol(\"rating\")\n",
    "val model = als.fit(training)\n",
    "\n",
    "// Evaluate the model by computing the RMSE on the test data\n",
    "// Note we set cold start strategy to 'drop' to ensure we don't get NaN evaluation metrics\n",
    "model.setColdStartStrategy(\"drop\")\n",
    "val predictions = model.transform(test)\n",
    "\n",
    "val evaluator = new RegressionEvaluator()\n",
    "  .setMetricName(\"rmse\")\n",
    "  .setLabelCol(\"rating\")\n",
    "  .setPredictionCol(\"prediction\")\n",
    "val rmse = evaluator.evaluate(predictions)\n",
    "println(s\"Root-mean-square error = $rmse\")\n",
    "\n",
    "// Generate top 10 movie recommendations for each user\n",
    "val userRecs = model.recommendForAllUsers(10)\n",
    "// Generate top 10 user recommendations for each movie\n",
    "val movieRecs = model.recommendForAllItems(10)\n",
    "\n",
    "// Generate top 10 movie recommendations for a specified set of users\n",
    "val users = ratings.select(als.getUserCol).distinct().limit(3)\n",
    "val userSubsetRecs = model.recommendForUserSubset(users, 10)\n",
    "// Generate top 10 user recommendations for a specified set of movies\n",
    "val movies = ratings.select(als.getItemCol).distinct().limit(3)\n",
    "val movieSubSetRecs = model.recommendForItemSubset(movies, 10)"
   ]
  },
  {
   "cell_type": "code",
   "execution_count": 18,
   "metadata": {
    "ExecuteTime": {
     "end_time": "2019-02-07T08:06:09.790767Z",
     "start_time": "2019-02-07T08:06:02.523Z"
    }
   },
   "outputs": [
    {
     "name": "stdout",
     "output_type": "stream",
     "text": [
      "+------+--------------------+\n",
      "|userId|     recommendations|\n",
      "+------+--------------------+\n",
      "|    28|[[65, 5.9662914],...|\n",
      "|    26|[[46, 7.264442], ...|\n",
      "|    27|[[46, 3.9809933],...|\n",
      "|    12|[[46, 5.42597], [...|\n",
      "|    22|[[52, 5.619651], ...|\n",
      "|     1|[[68, 3.6758366],...|\n",
      "|    13|[[25, 3.6470919],...|\n",
      "|     6|[[25, 4.794844], ...|\n",
      "|    16|[[39, 5.2071724],...|\n",
      "|     3|[[51, 4.9299946],...|\n",
      "|    20|[[22, 4.8744855],...|\n",
      "|     5|[[55, 4.4801764],...|\n",
      "|    19|[[90, 3.879931], ...|\n",
      "|    15|[[46, 4.462626], ...|\n",
      "|    17|[[20, 5.0643454],...|\n",
      "|     9|[[49, 5.0883746],...|\n",
      "|     4|[[52, 4.085467], ...|\n",
      "|     8|[[29, 4.990096], ...|\n",
      "|    23|[[25, 6.396133], ...|\n",
      "|     7|[[64, 4.1876116],...|\n",
      "+------+--------------------+\n",
      "only showing top 20 rows\n",
      "\n"
     ]
    }
   ],
   "source": [
    "userRecs.show()"
   ]
  },
  {
   "cell_type": "code",
   "execution_count": 19,
   "metadata": {
    "ExecuteTime": {
     "end_time": "2019-02-07T08:06:34.518100Z",
     "start_time": "2019-02-07T08:06:29.525Z"
    }
   },
   "outputs": [
    {
     "name": "stdout",
     "output_type": "stream",
     "text": [
      "+-------+--------------------+\n",
      "|movieId|     recommendations|\n",
      "+-------+--------------------+\n",
      "|     31|[[12, 4.050344], ...|\n",
      "|     85|[[16, 4.830504], ...|\n",
      "|     65|[[28, 5.9662914],...|\n",
      "|     53|[[22, 4.3496494],...|\n",
      "|     78|[[26, 1.377129], ...|\n",
      "|     34|[[2, 4.089016], [...|\n",
      "|     81|[[28, 5.1141415],...|\n",
      "|     28|[[18, 5.043909], ...|\n",
      "|     76|[[14, 4.9924316],...|\n",
      "|     26|[[0, 2.7917144], ...|\n",
      "|     27|[[12, 5.034793], ...|\n",
      "|     44|[[18, 3.9973888],...|\n",
      "|     12|[[28, 4.98783], [...|\n",
      "|     91|[[23, 3.7962852],...|\n",
      "|     22|[[26, 5.00882], [...|\n",
      "|     93|[[28, 4.4008946],...|\n",
      "|     47|[[7, 4.068767], [...|\n",
      "|      1|[[15, 3.692736], ...|\n",
      "|     52|[[22, 5.619651], ...|\n",
      "|     13|[[9, 4.2738132], ...|\n",
      "+-------+--------------------+\n",
      "only showing top 20 rows\n",
      "\n"
     ]
    }
   ],
   "source": [
    "movieRecs.show()"
   ]
  },
  {
   "cell_type": "code",
   "execution_count": 20,
   "metadata": {
    "ExecuteTime": {
     "end_time": "2019-02-07T08:07:15.979119Z",
     "start_time": "2019-02-07T08:07:07.069Z"
    }
   },
   "outputs": [
    {
     "name": "stdout",
     "output_type": "stream",
     "text": [
      "+------+--------------------+\n",
      "|userId|     recommendations|\n",
      "+------+--------------------+\n",
      "|    28|[[65, 5.9662914],...|\n",
      "|    26|[[46, 7.264442], ...|\n",
      "|    27|[[46, 3.9809933],...|\n",
      "+------+--------------------+\n",
      "\n",
      "+-------+--------------------+\n",
      "|movieId|     recommendations|\n",
      "+-------+--------------------+\n",
      "|     31|[[12, 4.050344], ...|\n",
      "|     85|[[16, 4.830504], ...|\n",
      "|     65|[[28, 5.9662914],...|\n",
      "+-------+--------------------+\n",
      "\n"
     ]
    }
   ],
   "source": [
    "userSubsetRecs.show()\n",
    "movieSubSetRecs.show()"
   ]
  },
  {
   "cell_type": "code",
   "execution_count": 22,
   "metadata": {
    "ExecuteTime": {
     "end_time": "2019-02-07T08:08:25.555820Z",
     "start_time": "2019-02-07T08:08:22.926Z"
    }
   },
   "outputs": [
    {
     "name": "stdout",
     "output_type": "stream",
     "text": [
      "+-------+\n",
      "|movieId|\n",
      "+-------+\n",
      "|     31|\n",
      "|     85|\n",
      "|     65|\n",
      "+-------+\n",
      "\n",
      "+------+\n",
      "|userId|\n",
      "+------+\n",
      "|    28|\n",
      "|    26|\n",
      "|    27|\n",
      "+------+\n",
      "\n"
     ]
    }
   ],
   "source": [
    "movies.show()\n",
    "users.show()"
   ]
  }
 ],
 "metadata": {
  "kernelspec": {
   "display_name": "Apache Toree - Scala",
   "language": "scala",
   "name": "apache_toree_scala"
  },
  "language_info": {
   "codemirror_mode": "text/x-scala",
   "file_extension": ".scala",
   "mimetype": "text/x-scala",
   "name": "scala",
   "pygments_lexer": "scala",
   "version": "2.11.12"
  },
  "varInspector": {
   "cols": {
    "lenName": 16,
    "lenType": 16,
    "lenVar": 40
   },
   "kernels_config": {
    "python": {
     "delete_cmd_postfix": "",
     "delete_cmd_prefix": "del ",
     "library": "var_list.py",
     "varRefreshCmd": "print(var_dic_list())"
    },
    "r": {
     "delete_cmd_postfix": ") ",
     "delete_cmd_prefix": "rm(",
     "library": "var_list.r",
     "varRefreshCmd": "cat(var_dic_list()) "
    }
   },
   "types_to_exclude": [
    "module",
    "function",
    "builtin_function_or_method",
    "instance",
    "_Feature"
   ],
   "window_display": false
  }
 },
 "nbformat": 4,
 "nbformat_minor": 2
}
