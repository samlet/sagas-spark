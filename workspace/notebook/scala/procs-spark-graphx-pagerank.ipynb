{
 "cells": [
  {
   "cell_type": "code",
   "execution_count": 1,
   "metadata": {
    "ExecuteTime": {
     "end_time": "2019-02-07T08:15:48.733185Z",
     "start_time": "2019-02-07T08:15:42.654Z"
    }
   },
   "outputs": [
    {
     "data": {
      "text/plain": [
       "spark = org.apache.spark.sql.SparkSession@5f053399\n",
       "spark_home = /Users/xiaofeiwu/jcloud/assets/langs/workspace/spark/spark-2.4.0-bin-hadoop2.7\n"
      ]
     },
     "metadata": {},
     "output_type": "display_data"
    },
    {
     "data": {
      "text/plain": [
       "/Users/xiaofeiwu/jcloud/assets/langs/workspace/spark/spark-2.4.0-bin-hadoop2.7"
      ]
     },
     "execution_count": 1,
     "metadata": {},
     "output_type": "execute_result"
    }
   ],
   "source": [
    "val spark = SparkSession.builder.appName(\"Simple Application\").getOrCreate()\n",
    "// For implicit conversions from RDDs to DataFrames\n",
    "import spark.implicits._\n",
    "import org.apache.spark.sql.types._\n",
    "import org.apache.spark.sql._\n",
    "\n",
    "val spark_home=sys.env(\"SPARK_HOME\")"
   ]
  },
  {
   "cell_type": "code",
   "execution_count": 3,
   "metadata": {
    "ExecuteTime": {
     "end_time": "2019-02-07T08:17:06.075822Z",
     "start_time": "2019-02-07T08:16:48.849Z"
    }
   },
   "outputs": [
    {
     "name": "stdout",
     "output_type": "stream",
     "text": [
      "(justinbieber,0.15007622780470478)\n",
      "(matei_zaharia,0.7017164142469724)\n",
      "(ladygaga,1.3907556008752426)\n",
      "(BarackObama,1.4596227918476916)\n",
      "(jeresig,0.9998520559494657)\n",
      "(odersky,1.2979769092759237)\n"
     ]
    },
    {
     "data": {
      "text/plain": [
       "sc = org.apache.spark.SparkContext@24a004b0\n",
       "graph = org.apache.spark.graphx.impl.GraphImpl@5ed01186\n",
       "ranks = VertexRDDImpl[903] at RDD at VertexRDD.scala:57\n",
       "users = MapPartitionsRDD[912] at map at <console>:49\n",
       "ranksByUsername = MapPartitionsRDD[916] at map at <console>:53\n"
      ]
     },
     "metadata": {},
     "output_type": "display_data"
    },
    {
     "data": {
      "text/plain": [
       "MapPartitionsRDD[916] at map at <console>:53"
      ]
     },
     "execution_count": 3,
     "metadata": {},
     "output_type": "execute_result"
    }
   ],
   "source": [
    "import org.apache.spark.graphx.GraphLoader\n",
    "\n",
    "val sc = spark.sparkContext\n",
    "\n",
    "// $example on$\n",
    "// Load the edges as a graph\n",
    "val graph = GraphLoader.edgeListFile(sc, spark_home+\"/data/graphx/followers.txt\")\n",
    "// Run PageRank\n",
    "val ranks = graph.pageRank(0.0001).vertices\n",
    "// Join the ranks with the usernames\n",
    "val users = sc.textFile(spark_home+\"/data/graphx/users.txt\").map { line =>\n",
    "  val fields = line.split(\",\")\n",
    "  (fields(0).toLong, fields(1))\n",
    "}\n",
    "val ranksByUsername = users.join(ranks).map {\n",
    "  case (id, (username, rank)) => (username, rank)\n",
    "}\n",
    "// Print the result\n",
    "println(ranksByUsername.collect().mkString(\"\\n\"))"
   ]
  }
 ],
 "metadata": {
  "kernelspec": {
   "display_name": "Apache Toree - Scala",
   "language": "scala",
   "name": "apache_toree_scala"
  },
  "language_info": {
   "codemirror_mode": "text/x-scala",
   "file_extension": ".scala",
   "mimetype": "text/x-scala",
   "name": "scala",
   "pygments_lexer": "scala",
   "version": "2.11.12"
  },
  "varInspector": {
   "cols": {
    "lenName": 16,
    "lenType": 16,
    "lenVar": 40
   },
   "kernels_config": {
    "python": {
     "delete_cmd_postfix": "",
     "delete_cmd_prefix": "del ",
     "library": "var_list.py",
     "varRefreshCmd": "print(var_dic_list())"
    },
    "r": {
     "delete_cmd_postfix": ") ",
     "delete_cmd_prefix": "rm(",
     "library": "var_list.r",
     "varRefreshCmd": "cat(var_dic_list()) "
    }
   },
   "types_to_exclude": [
    "module",
    "function",
    "builtin_function_or_method",
    "instance",
    "_Feature"
   ],
   "window_display": false
  }
 },
 "nbformat": 4,
 "nbformat_minor": 2
}
