{
 "cells": [
  {
   "cell_type": "code",
   "execution_count": 3,
   "metadata": {
    "ExecuteTime": {
     "end_time": "2019-01-26T10:08:02.737415Z",
     "start_time": "2019-01-26T10:07:20.821Z"
    }
   },
   "outputs": [
    {
     "name": "stdout",
     "output_type": "stream",
     "text": [
      "Marking org.joda:joda-money:0.11 for download\n",
      "Obtained 2 files\n"
     ]
    }
   ],
   "source": [
    "%AddDeps org.joda joda-money 0.11 --transitive "
   ]
  },
  {
   "cell_type": "code",
   "execution_count": 2,
   "metadata": {
    "ExecuteTime": {
     "end_time": "2019-01-26T10:07:56.251954Z",
     "start_time": "2019-01-26T10:07:10.679Z"
    }
   },
   "outputs": [
    {
     "name": "stdout",
     "output_type": "stream",
     "text": [
      "Marking com.databricks:spark-xml_2.11:0.5.0 for download\n",
      "Obtained 2 files\n"
     ]
    }
   ],
   "source": [
    "%AddDeps com.databricks spark-xml_2.11 0.5.0 --transitive "
   ]
  },
  {
   "cell_type": "code",
   "execution_count": 1,
   "metadata": {
    "ExecuteTime": {
     "end_time": "2019-01-26T10:07:48.528585Z",
     "start_time": "2019-01-26T10:06:58.984Z"
    }
   },
   "outputs": [
    {
     "name": "stdout",
     "output_type": "stream",
     "text": [
      "Marking mysql:mysql-connector-java:5.1.47 for download\n",
      "Obtained 2 files\n"
     ]
    }
   ],
   "source": [
    "%AddDeps mysql mysql-connector-java 5.1.47 --transitive "
   ]
  },
  {
   "cell_type": "code",
   "execution_count": 7,
   "metadata": {
    "ExecuteTime": {
     "end_time": "2019-01-26T09:39:46.783449Z",
     "start_time": "2019-01-26T09:39:45.549Z"
    }
   },
   "outputs": [
    {
     "name": "stdout",
     "output_type": "stream",
     "text": [
      "/Users/xiaofeiwu/jcloud/assets/langs/workspace/spark/workspace/notebook/scala/./Users/xiaofeiwu/jcloud/assets/langs/workspace/spark/workspace/notebook/scala"
     ]
    },
    {
     "data": {
      "text/plain": [
       "whereami = /Users/xiaofeiwu/jcloud/assets/langs/workspace/spark/workspace/notebook/scala\n"
      ]
     },
     "metadata": {},
     "output_type": "display_data"
    },
    {
     "data": {
      "text/plain": [
       "/Users/xiaofeiwu/jcloud/assets/langs/workspace/spark/workspace/notebook/scala"
      ]
     },
     "execution_count": 7,
     "metadata": {},
     "output_type": "execute_result"
    }
   ],
   "source": [
    "import java.io._\n",
    "print(new File(\".\").getAbsolutePath())\n",
    "val whereami = System.getProperty(\"user.dir\")\n",
    "print(whereami)"
   ]
  },
  {
   "cell_type": "code",
   "execution_count": 9,
   "metadata": {
    "ExecuteTime": {
     "end_time": "2019-01-26T09:42:41.336423Z",
     "start_time": "2019-01-26T09:42:31.215Z"
    }
   },
   "outputs": [
    {
     "name": "stdout",
     "output_type": "stream",
     "text": [
      "true"
     ]
    },
    {
     "data": {
      "text/plain": [
       "xmlfile = ../../data/books.xml\n",
       "spark = org.apache.spark.sql.SparkSession@79e57ed6\n",
       "df = [_id: string, author: string ... 5 more fields]\n",
       "selectedData = [author: string, _id: string]\n"
      ]
     },
     "metadata": {},
     "output_type": "display_data"
    },
    {
     "data": {
      "text/plain": [
       "[author: string, _id: string]"
      ]
     },
     "execution_count": 9,
     "metadata": {},
     "output_type": "execute_result"
    }
   ],
   "source": [
    "import org.apache.spark.sql.SparkSession\n",
    "import com.databricks.spark.xml._\n",
    "\n",
    "val xmlfile=\"../../data/books.xml\"\n",
    "print(new File(xmlfile).exists())\n",
    "\n",
    "val spark = SparkSession.builder.getOrCreate()\n",
    "val df = spark.read\n",
    "  .option(\"rowTag\", \"book\")\n",
    "  .xml(xmlfile)\n",
    "\n",
    "val selectedData = df.select(\"author\", \"_id\")\n",
    "selectedData.write\n",
    "  .option(\"rootTag\", \"books\")\n",
    "  .option(\"rowTag\", \"book\")\n",
    "  .xml(\"newbooks.xml\")"
   ]
  },
  {
   "cell_type": "code",
   "execution_count": 14,
   "metadata": {
    "ExecuteTime": {
     "end_time": "2019-01-26T09:50:35.908104Z",
     "start_time": "2019-01-26T09:50:31.411Z"
    }
   },
   "outputs": [
    {
     "data": {
      "text/plain": [
       "spark = org.apache.spark.sql.SparkSession@79e57ed6\n",
       "customSchema = StructType(StructField(_id,StringType,true), StructField(author,StringType,true), StructField(description,StringType,true), StructField(genre,StringType,true), StructField(price,DoubleType,true), StructField(publish_date,StringType,true), StructField(title,StringType,true))\n",
       "df = [_id: string, author: string ... 5 more fields]\n",
       "selectedData = [author: string, title: string ... 1 more field]\n"
      ]
     },
     "metadata": {},
     "output_type": "display_data"
    },
    {
     "data": {
      "text/plain": [
       "lastException: Throwable = null\n"
      ]
     },
     "metadata": {},
     "output_type": "display_data"
    },
    {
     "data": {
      "text/plain": [
       "[author: string, title: string ... 1 more field]"
      ]
     },
     "execution_count": 14,
     "metadata": {},
     "output_type": "execute_result"
    }
   ],
   "source": [
    "import org.apache.spark.sql.SparkSession\n",
    "import org.apache.spark.sql.types.{StructType, StructField, StringType, DoubleType}\n",
    "import com.databricks.spark.xml._\n",
    "\n",
    "val spark = SparkSession.builder.getOrCreate()\n",
    "val customSchema = StructType(Array(\n",
    "  StructField(\"_id\", StringType, nullable = true),\n",
    "  StructField(\"author\", StringType, nullable = true),\n",
    "  StructField(\"description\", StringType, nullable = true),\n",
    "  StructField(\"genre\", StringType, nullable = true),\n",
    "  StructField(\"price\", DoubleType, nullable = true),\n",
    "  StructField(\"publish_date\", StringType, nullable = true),\n",
    "  StructField(\"title\", StringType, nullable = true)))\n",
    "\n",
    "\n",
    "val df = spark.read\n",
    "  .option(\"rowTag\", \"book\")\n",
    "  .schema(customSchema)\n",
    "  .xml(xmlfile)\n",
    "\n",
    "val selectedData = df.select(\"author\", \"title\", \"_id\")\n",
    "selectedData.write\n",
    "  .option(\"rootTag\", \"books\")\n",
    "  .option(\"rowTag\", \"book\")\n",
    "  .xml(\"newbooks_2.xml\")"
   ]
  },
  {
   "cell_type": "code",
   "execution_count": 15,
   "metadata": {
    "ExecuteTime": {
     "end_time": "2019-01-26T09:59:14.563668Z",
     "start_time": "2019-01-26T09:59:04.449Z"
    }
   },
   "outputs": [
    {
     "data": {
      "text/plain": [
       "defined class DFRecord\n",
       "sqlc = org.apache.spark.sql.SparkSession@79e57ed6\n",
       "df = [key: string, value: int]\n"
      ]
     },
     "metadata": {},
     "output_type": "display_data"
    },
    {
     "data": {
      "text/plain": [
       "<console>:6: error: Symbol 'type scala.AnyRef' is missing from the classpath.\n",
       "This symbol is required by 'class org.apache.spark.sql.catalyst.QualifiedTableName'.\n",
       "Make sure that type AnyRef is in your classpath and check for conflicting dependencies with `-Ylog-classpath`.\n",
       "A full rebuild may help if 'QualifiedTableName.class' was compiled against an incompatible version of scala.\n",
       "  lazy val $print: String =  {\n",
       "           ^\n"
      ]
     },
     "metadata": {},
     "output_type": "display_data"
    },
    {
     "data": {
      "text/plain": [
       "[key: string, value: int]"
      ]
     },
     "execution_count": 15,
     "metadata": {},
     "output_type": "execute_result"
    }
   ],
   "source": [
    "case class DFRecord(key: String, value: Int)\n",
    "val sqlc = spark\n",
    "import sqlc.implicits._\n",
    "val df = sc.parallelize(1 to 10).map(x => DFRecord(x.toString, x)).toDF()"
   ]
  },
  {
   "cell_type": "code",
   "execution_count": 16,
   "metadata": {
    "ExecuteTime": {
     "end_time": "2019-01-26T10:00:00.509502Z",
     "start_time": "2019-01-26T09:59:56.909Z"
    }
   },
   "outputs": [
    {
     "data": {
      "text/html": [
       "<table><tr><th>key</th><th>value</th></tr><tr><td>1</td><td>1</td></tr><tr><td>2</td><td>2</td></tr><tr><td>3</td><td>3</td></tr><tr><td>4</td><td>4</td></tr><tr><td>5</td><td>5</td></tr><tr><td>6</td><td>6</td></tr><tr><td>7</td><td>7</td></tr><tr><td>8</td><td>8</td></tr><tr><td>9</td><td>9</td></tr><tr><td>10</td><td>10</td></tr></table>"
      ]
     },
     "execution_count": 16,
     "metadata": {},
     "output_type": "execute_result"
    }
   ],
   "source": [
    "%%dataframe\n",
    "df"
   ]
  },
  {
   "cell_type": "code",
   "execution_count": 17,
   "metadata": {
    "ExecuteTime": {
     "end_time": "2019-01-26T10:00:25.863445Z",
     "start_time": "2019-01-26T10:00:22.735Z"
    }
   },
   "outputs": [
    {
     "data": {
      "text/html": [
       "<table><tr><th>key</th><th>value</th></tr><tr><td>1</td><td>1</td></tr><tr><td>2</td><td>2</td></tr><tr><td>3</td><td>3</td></tr></table>"
      ]
     },
     "execution_count": 17,
     "metadata": {},
     "output_type": "execute_result"
    }
   ],
   "source": [
    "%%dataframe --limit=3\n",
    "df"
   ]
  },
  {
   "cell_type": "code",
   "execution_count": 19,
   "metadata": {
    "ExecuteTime": {
     "end_time": "2019-01-26T10:01:16.645827Z",
     "start_time": "2019-01-26T10:01:12.096Z"
    }
   },
   "outputs": [
    {
     "data": {
      "text/plain": [
       "sqlc = org.apache.spark.sql.SparkSession@79e57ed6\n",
       "defined class Record\n",
       "df = [key: string, value: int]\n"
      ]
     },
     "metadata": {},
     "output_type": "display_data"
    },
    {
     "data": {
      "text/plain": [
       "warning: there was one deprecation warning; re-run with -deprecation for details\n"
      ]
     },
     "metadata": {},
     "output_type": "display_data"
    },
    {
     "data": {
      "text/plain": [
       "[key: string, value: int]"
      ]
     },
     "execution_count": 19,
     "metadata": {},
     "output_type": "execute_result"
    }
   ],
   "source": [
    "val sqlc = spark\n",
    "import sqlc.implicits._\n",
    "case class Record(key: String, value: Int)\n",
    "val df = sc.parallelize(1 to 10).map(x => Record(x.toString, x)).toDF()\n",
    "df.registerTempTable(\"MYTABLE\")"
   ]
  },
  {
   "cell_type": "code",
   "execution_count": 20,
   "metadata": {
    "ExecuteTime": {
     "end_time": "2019-01-26T10:01:32.345017Z",
     "start_time": "2019-01-26T10:01:29.113Z"
    }
   },
   "outputs": [
    {
     "data": {
      "text/plain": [
       "+---+-----+\n",
       "|key|value|\n",
       "+---+-----+\n",
       "|  6|    6|\n",
       "|  7|    7|\n",
       "|  8|    8|\n",
       "|  9|    9|\n",
       "| 10|   10|\n",
       "+---+-----+\n",
       "\n"
      ]
     },
     "execution_count": 20,
     "metadata": {},
     "output_type": "execute_result"
    }
   ],
   "source": [
    "%%SQL\n",
    "SELECT * FROM MYTABLE WHERE value >= 6"
   ]
  },
  {
   "cell_type": "code",
   "execution_count": 21,
   "metadata": {
    "ExecuteTime": {
     "end_time": "2019-01-26T10:01:48.590048Z",
     "start_time": "2019-01-26T10:01:46.635Z"
    }
   },
   "outputs": [
    {
     "data": {
      "text/plain": [
       "+---+-----+\n",
       "|key|value|\n",
       "+---+-----+\n",
       "|  4|    4|\n",
       "|  5|    5|\n",
       "|  6|    6|\n",
       "|  7|    7|\n",
       "|  8|    8|\n",
       "|  9|    9|\n",
       "| 10|   10|\n",
       "+---+-----+\n",
       "\n"
      ]
     },
     "execution_count": 21,
     "metadata": {},
     "output_type": "execute_result"
    }
   ],
   "source": [
    "%%SQL\n",
    "SELECT * FROM MYTABLE WHERE value >= 4"
   ]
  },
  {
   "cell_type": "code",
   "execution_count": 6,
   "metadata": {
    "ExecuteTime": {
     "end_time": "2019-01-26T10:09:58.822852Z",
     "start_time": "2019-01-26T10:09:56.906Z"
    }
   },
   "outputs": [
    {
     "name": "stdout",
     "output_type": "stream",
     "text": [
      "Sat Jan 26 18:09:57 CST 2019 WARN: Establishing SSL connection without server's identity verification is not recommended. According to MySQL 5.5.45+, 5.6.26+ and 5.7.6+ requirements SSL connection must be established by default if explicit option isn't set. For compliance with existing applications not using SSL the verifyServerCertificate property is set to 'false'. You need either to explicitly disable SSL by setting useSSL=false, or set useSSL=true and provide truststore for server certificate verification.\n"
     ]
    },
    {
     "data": {
      "text/plain": [
       "sqlcontext = org.apache.spark.sql.SparkSession@6116fea3\n",
       "dataframe_mysql = [PARTY_ID: string, SALUTATION: string ... 34 more fields]\n"
      ]
     },
     "metadata": {},
     "output_type": "display_data"
    },
    {
     "data": {
      "text/plain": [
       "[PARTY_ID: string, SALUTATION: string ... 34 more fields]"
      ]
     },
     "execution_count": 6,
     "metadata": {},
     "output_type": "execute_result"
    }
   ],
   "source": [
    "import org.apache.spark.sql.SQLContext\n",
    "// val sqlcontext = new org.apache.spark.sql.SQLContext(sc)\n",
    "val sqlcontext = SparkSession.builder.getOrCreate()\n",
    "val dataframe_mysql = sqlcontext.read.format(\"jdbc\").option(\"url\", \"jdbc:mysql://127.0.0.1:4000/ofbiz\").option(\"driver\", \"com.mysql.jdbc.Driver\").option(\"dbtable\", \"PERSON\").option(\"user\", \"ofbiz\").option(\"password\", \"ofbiz\").load()\n",
    "// dataframe_mysql.show()"
   ]
  },
  {
   "cell_type": "code",
   "execution_count": 10,
   "metadata": {
    "ExecuteTime": {
     "end_time": "2019-01-26T11:59:48.305604Z",
     "start_time": "2019-01-26T11:59:45.909Z"
    },
    "scrolled": false
   },
   "outputs": [
    {
     "data": {
      "text/html": [
       "<table><tr><th>PARTY_ID</th><th>SALUTATION</th><th>FIRST_NAME</th><th>MIDDLE_NAME</th><th>LAST_NAME</th><th>PERSONAL_TITLE</th><th>SUFFIX</th><th>NICKNAME</th><th>FIRST_NAME_LOCAL</th><th>MIDDLE_NAME_LOCAL</th><th>LAST_NAME_LOCAL</th><th>OTHER_LOCAL</th><th>MEMBER_ID</th><th>GENDER</th><th>BIRTH_DATE</th><th>DECEASED_DATE</th><th>HEIGHT</th><th>WEIGHT</th><th>MOTHERS_MAIDEN_NAME</th><th>MARITAL_STATUS</th><th>SOCIAL_SECURITY_NUMBER</th><th>PASSPORT_NUMBER</th><th>PASSPORT_EXPIRE_DATE</th><th>TOTAL_YEARS_WORK_EXPERIENCE</th><th>COMMENTS</th><th>EMPLOYMENT_STATUS_ENUM_ID</th><th>RESIDENCE_STATUS_ENUM_ID</th><th>OCCUPATION</th><th>YEARS_WITH_EMPLOYER</th><th>MONTHS_WITH_EMPLOYER</th><th>EXISTING_CUSTOMER</th><th>CARD_ID</th><th>LAST_UPDATED_STAMP</th><th>LAST_UPDATED_TX_STAMP</th><th>CREATED_STAMP</th><th>CREATED_TX_STAMP</th></tr><tr><td>system</td><td>null</td><td>System</td><td>null</td><td>Account</td><td>null</td><td>null</td><td>null</td><td>null</td><td>null</td><td>null</td><td>null</td><td>null</td><td>null</td><td>null</td><td>null</td><td>null</td><td>null</td><td>null</td><td>null</td><td>null</td><td>null</td><td>null</td><td>null</td><td>null</td><td>null</td><td>null</td><td>null</td><td>null</td><td>null</td><td>null</td><td>null</td><td>2019-01-26 17:44:14.907</td><td>2019-01-26 17:44:14.843</td><td>2019-01-26 17:44:14.907</td><td>2019-01-26 17:44:14.843</td></tr><tr><td>_NA_</td><td>null</td><td>null</td><td>null</td><td>null</td><td>null</td><td>null</td><td>null</td><td>null</td><td>null</td><td>null</td><td>null</td><td>null</td><td>null</td><td>null</td><td>null</td><td>null</td><td>null</td><td>null</td><td>null</td><td>null</td><td>null</td><td>null</td><td>null</td><td>null</td><td>null</td><td>null</td><td>null</td><td>null</td><td>null</td><td>null</td><td>null</td><td>2019-01-26 17:45:08.391</td><td>2019-01-26 17:45:08.362</td><td>2019-01-26 17:45:08.391</td><td>2019-01-26 17:45:08.362</td></tr><tr><td>admin</td><td>null</td><td>THE</td><td>PRIVILEGED</td><td>ADMINISTRATOR</td><td>Mr.</td><td>null</td><td>null</td><td>null</td><td>null</td><td>null</td><td>null</td><td>null</td><td>null</td><td>null</td><td>null</td><td>null</td><td>null</td><td>null</td><td>null</td><td>null</td><td>null</td><td>null</td><td>null</td><td>null</td><td>null</td><td>null</td><td>null</td><td>null</td><td>null</td><td>null</td><td>null</td><td>2019-01-26 17:45:08.416</td><td>2019-01-26 17:45:08.362</td><td>2019-01-26 17:45:08.416</td><td>2019-01-26 17:45:08.362</td></tr><tr><td>ltdadmin</td><td>null</td><td>Limited</td><td>null</td><td>Administrator</td><td>Mr.</td><td>null</td><td>null</td><td>null</td><td>null</td><td>null</td><td>null</td><td>null</td><td>null</td><td>null</td><td>null</td><td>null</td><td>null</td><td>null</td><td>null</td><td>null</td><td>null</td><td>null</td><td>null</td><td>null</td><td>null</td><td>null</td><td>null</td><td>null</td><td>null</td><td>null</td><td>null</td><td>2019-01-26 17:45:08.46</td><td>2019-01-26 17:45:08.362</td><td>2019-01-26 17:45:08.46</td><td>2019-01-26 17:45:08.362</td></tr><tr><td>ltdadmin1</td><td>null</td><td>Limited</td><td>null</td><td>Administrator1</td><td>Mr.</td><td>null</td><td>null</td><td>null</td><td>null</td><td>null</td><td>null</td><td>null</td><td>null</td><td>null</td><td>null</td><td>null</td><td>null</td><td>null</td><td>null</td><td>null</td><td>null</td><td>null</td><td>null</td><td>null</td><td>null</td><td>null</td><td>null</td><td>null</td><td>null</td><td>null</td><td>null</td><td>2019-01-26 17:45:08.488</td><td>2019-01-26 17:45:08.362</td><td>2019-01-26 17:45:08.488</td><td>2019-01-26 17:45:08.362</td></tr></table>"
      ]
     },
     "execution_count": 10,
     "metadata": {},
     "output_type": "execute_result"
    }
   ],
   "source": [
    "%%dataframe --limit=5\n",
    "dataframe_mysql"
   ]
  },
  {
   "cell_type": "code",
   "execution_count": 13,
   "metadata": {
    "ExecuteTime": {
     "end_time": "2019-01-26T12:06:23.936560Z",
     "start_time": "2019-01-26T12:06:21.794Z"
    }
   },
   "outputs": [
    {
     "name": "stdout",
     "output_type": "stream",
     "text": [
      "Sat Jan 26 20:06:22 CST 2019 WARN: Establishing SSL connection without server's identity verification is not recommended. According to MySQL 5.5.45+, 5.6.26+ and 5.7.6+ requirements SSL connection must be established by default if explicit option isn't set. For compliance with existing applications not using SSL the verifyServerCertificate property is set to 'false'. You need either to explicitly disable SSL by setting useSSL=false, or set useSSL=true and provide truststore for server certificate verification.\n"
     ]
    },
    {
     "data": {
      "text/plain": [
       "sql = select first_name, last_name from ofbiz.person\n",
       "dataframe_mysql = [first_name: string, last_name: string]\n"
      ]
     },
     "metadata": {},
     "output_type": "display_data"
    },
    {
     "data": {
      "text/plain": [
       "lastException: Throwable = null\n"
      ]
     },
     "metadata": {},
     "output_type": "display_data"
    },
    {
     "data": {
      "text/plain": [
       "[first_name: string, last_name: string]"
      ]
     },
     "execution_count": 13,
     "metadata": {},
     "output_type": "execute_result"
    }
   ],
   "source": [
    "val sql=\"\"\"select first_name, last_name from ofbiz.person\"\"\"\n",
    "val dataframe_mysql = sqlcontext.read.format(\"jdbc\")\n",
    "    .option(\"url\", \"jdbc:mysql://127.0.0.1:4000/ofbiz\")\n",
    "    .option(\"driver\", \"com.mysql.jdbc.Driver\")\n",
    "    .option(\"dbtable\", s\"( $sql ) t\")\n",
    "    .option(\"user\", \"ofbiz\")\n",
    "    .option(\"password\", \"ofbiz\")\n",
    "    .load()\n"
   ]
  },
  {
   "cell_type": "code",
   "execution_count": 14,
   "metadata": {
    "ExecuteTime": {
     "end_time": "2019-01-26T12:06:35.962380Z",
     "start_time": "2019-01-26T12:06:33.568Z"
    }
   },
   "outputs": [
    {
     "data": {
      "text/html": [
       "<table><tr><th>first_name</th><th>last_name</th></tr><tr><td>System</td><td>Account</td></tr><tr><td>null</td><td>null</td></tr><tr><td>THE</td><td>ADMINISTRATOR</td></tr><tr><td>Limited</td><td>Administrator</td></tr><tr><td>Limited</td><td>Administrator1</td></tr></table>"
      ]
     },
     "execution_count": 14,
     "metadata": {},
     "output_type": "execute_result"
    }
   ],
   "source": [
    "%%dataframe --limit=5\n",
    "dataframe_mysql"
   ]
  },
  {
   "cell_type": "code",
   "execution_count": 1,
   "metadata": {
    "ExecuteTime": {
     "end_time": "2019-01-26T13:17:46.467054Z",
     "start_time": "2019-01-26T13:17:44.763Z"
    }
   },
   "outputs": [
    {
     "name": "stdout",
     "output_type": "stream",
     "text": [
      "Sat Jan 26 21:17:45 CST 2019 WARN: Establishing SSL connection without server's identity verification is not recommended. According to MySQL 5.5.45+, 5.6.26+ and 5.7.6+ requirements SSL connection must be established by default if explicit option isn't set. For compliance with existing applications not using SSL the verifyServerCertificate property is set to 'false'. You need either to explicitly disable SSL by setting useSSL=false, or set useSSL=true and provide truststore for server certificate verification.\n"
     ]
    },
    {
     "data": {
      "text/plain": [
       "sql = select first_name, last_name from ofbiz.person\n",
       "dataframe_mysql = [first_name: string, last_name: string]\n"
      ]
     },
     "metadata": {},
     "output_type": "display_data"
    },
    {
     "data": {
      "text/plain": [
       "[first_name: string, last_name: string]"
      ]
     },
     "execution_count": 1,
     "metadata": {},
     "output_type": "execute_result"
    }
   ],
   "source": [
    "// connect to local mysql server\n",
    "val sql=\"\"\"select first_name, last_name from ofbiz.person\"\"\"\n",
    "val dataframe_mysql = sqlcontext.read.format(\"jdbc\")\n",
    "    .option(\"url\", \"jdbc:mysql://127.0.0.1:3306/ofbiz\")\n",
    "    .option(\"driver\", \"com.mysql.jdbc.Driver\")\n",
    "    .option(\"dbtable\", s\"( $sql ) t\")\n",
    "    .option(\"user\", \"ofbiz\")\n",
    "    .option(\"password\", \"ofbiz\")\n",
    "    .load()"
   ]
  },
  {
   "cell_type": "code",
   "execution_count": 2,
   "metadata": {
    "ExecuteTime": {
     "end_time": "2019-01-26T13:17:55.779502Z",
     "start_time": "2019-01-26T13:17:54.149Z"
    }
   },
   "outputs": [
    {
     "data": {
      "text/html": [
       "<table><tr><th>first_name</th><th>last_name</th></tr><tr><td>Accounting</td><td>Administrator</td></tr><tr><td>Acct</td><td>Buyer</td></tr><tr><td>THE</td><td>ADMINISTRATOR</td></tr><tr><td>Robert</td><td>Smith</td></tr><tr><td>Big</td><td>Al</td></tr></table>"
      ]
     },
     "execution_count": 2,
     "metadata": {},
     "output_type": "execute_result"
    }
   ],
   "source": [
    "%%dataframe --limit=5\n",
    "dataframe_mysql"
   ]
  }
 ],
 "metadata": {
  "kernelspec": {
   "display_name": "Apache Toree - Scala",
   "language": "scala",
   "name": "apache_toree_scala"
  },
  "language_info": {
   "codemirror_mode": "text/x-scala",
   "file_extension": ".scala",
   "mimetype": "text/x-scala",
   "name": "scala",
   "pygments_lexer": "scala",
   "version": "2.11.12"
  },
  "varInspector": {
   "cols": {
    "lenName": 16,
    "lenType": 16,
    "lenVar": 40
   },
   "kernels_config": {
    "python": {
     "delete_cmd_postfix": "",
     "delete_cmd_prefix": "del ",
     "library": "var_list.py",
     "varRefreshCmd": "print(var_dic_list())"
    },
    "r": {
     "delete_cmd_postfix": ") ",
     "delete_cmd_prefix": "rm(",
     "library": "var_list.r",
     "varRefreshCmd": "cat(var_dic_list()) "
    }
   },
   "types_to_exclude": [
    "module",
    "function",
    "builtin_function_or_method",
    "instance",
    "_Feature"
   ],
   "window_display": false
  }
 },
 "nbformat": 4,
 "nbformat_minor": 2
}
