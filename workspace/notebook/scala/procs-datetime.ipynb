{
 "cells": [
  {
   "cell_type": "code",
   "execution_count": 1,
   "metadata": {
    "ExecuteTime": {
     "end_time": "2019-01-26T09:32:54.000356Z",
     "start_time": "2019-01-26T09:32:12.867Z"
    }
   },
   "outputs": [
    {
     "name": "stdout",
     "output_type": "stream",
     "text": [
      "Marking org.joda:joda-money:0.11 for download\n",
      "Preparing to fetch from:\n",
      "-> file:/var/folders/fv/7k1qk5v11dn33sdcngv2wbnm0000gn/T/toree-tmp-dir4533536512772810563/toree_add_deps/\n",
      "-> https://repo1.maven.org/maven2\n",
      "=> 1 (): Downloading https://repo1.maven.org/maven2/org/joda/joda-money/0.11/joda-money-0.11.pom\n",
      "=> 1 (): Downloading https://repo1.maven.org/maven2/org/joda/joda-money/0.11/joda-money-0.11.pom.sha1\n",
      "===> 1 (joda-money-0.11.pom): Is 22792 total bytes\n",
      "===> 1 (joda-money-0.11.pom.sha1): Is 40 total bytes\n",
      "===> 1 (joda-money-0.11.pom.sha1): Downloaded 40 bytes (100.00%)\n",
      "===> 1 (joda-money-0.11.pom): Downloaded 2237 bytes (9.81%)\n",
      "===> 1 (joda-money-0.11.pom): Downloaded 4996 bytes (21.92%)\n",
      "===> 1 (joda-money-0.11.pom): Downloaded 7755 bytes (34.03%)\n",
      "===> 1 (joda-money-0.11.pom): Downloaded 10514 bytes (46.13%)\n",
      "===> 1 (joda-money-0.11.pom): Downloaded 13273 bytes (58.24%)\n",
      "=> 1 (joda-money-0.11.pom.sha1): Finished downloading\n",
      "===> 1 (joda-money-0.11.pom): Downloaded 15862 bytes (69.59%)\n",
      "===> 1 (joda-money-0.11.pom): Downloaded 18621 bytes (81.70%)\n",
      "===> 1 (joda-money-0.11.pom): Downloaded 21380 bytes (93.80%)\n",
      "===> 1 (joda-money-0.11.pom): Downloaded 22792 bytes (100.00%)\n",
      "=> 1 (joda-money-0.11.pom): Finished downloading\n",
      "=> 2 (): Downloading https://repo1.maven.org/maven2/org/joda/joda-money/0.11/\n",
      "===> 2 (.directory): Is 2936 total bytes\n",
      "===> 2 (.directory): Downloaded 2349 bytes (80.01%)\n",
      "===> 2 (.directory): Downloaded 2936 bytes (100.00%)\n",
      "=> 2 (.directory): Finished downloading\n",
      "=> 1 (): Downloading https://repo1.maven.org/maven2/org/joda/joda-money/0.11/joda-money-0.11.jar.sha1\n",
      "=> 2 (): Downloading https://repo1.maven.org/maven2/org/joda/joda-money/0.11/joda-money-0.11.jar\n",
      "=> https://repo1.maven.org/maven2/org/joda/joda-money/0.11/joda-money-0.11.pom.sha1: Found at /var/folders/fv/7k1qk5v11dn33sdcngv2wbnm0000gn/T/toree-tmp-dir4533536512772810563/toree_add_deps/https/repo1.maven.org/maven2/org/joda/joda-money/0.11/joda-money-0.11.pom.sha1\n",
      "=> https://repo1.maven.org/maven2/org/joda/joda-money/0.11/joda-money-0.11.pom: Found at /var/folders/fv/7k1qk5v11dn33sdcngv2wbnm0000gn/T/toree-tmp-dir4533536512772810563/toree_add_deps/https/repo1.maven.org/maven2/org/joda/joda-money/0.11/joda-money-0.11.pom\n",
      "===> 1 (joda-money-0.11.jar.sha1): Is 40 total bytes\n",
      "===> 1 (joda-money-0.11.jar.sha1): Downloaded 40 bytes (100.00%)\n",
      "=> 1 (joda-money-0.11.jar.sha1): Finished downloading\n",
      "===> 2 (joda-money-0.11.jar): Is 63725 total bytes\n",
      "===> 2 (joda-money-0.11.jar): Downloaded 2224 bytes (3.49%)\n",
      "===> 2 (joda-money-0.11.jar): Downloaded 4983 bytes (7.82%)\n",
      "===> 2 (joda-money-0.11.jar): Downloaded 7742 bytes (12.15%)\n",
      "===> 2 (joda-money-0.11.jar): Downloaded 10501 bytes (16.48%)\n",
      "===> 2 (joda-money-0.11.jar): Downloaded 13260 bytes (20.81%)\n",
      "===> 2 (joda-money-0.11.jar): Downloaded 15849 bytes (24.87%)\n",
      "===> 2 (joda-money-0.11.jar): Downloaded 18608 bytes (29.20%)\n",
      "===> 2 (joda-money-0.11.jar): Downloaded 21367 bytes (33.53%)\n",
      "===> 2 (joda-money-0.11.jar): Downloaded 24126 bytes (37.86%)\n",
      "===> 2 (joda-money-0.11.jar): Downloaded 26885 bytes (42.19%)\n",
      "===> 2 (joda-money-0.11.jar): Downloaded 29644 bytes (46.52%)\n",
      "===> 2 (joda-money-0.11.jar): Downloaded 32233 bytes (50.58%)\n",
      "===> 2 (joda-money-0.11.jar): Downloaded 48617 bytes (76.29%)\n",
      "===> 2 (joda-money-0.11.jar): Downloaded 63725 bytes (100.00%)\n",
      "=> 2 (joda-money-0.11.jar): Finished downloading\n",
      "-> New file at /var/folders/fv/7k1qk5v11dn33sdcngv2wbnm0000gn/T/toree-tmp-dir4533536512772810563/toree_add_deps/https/repo1.maven.org/maven2/org/joda/joda-money/0.11/joda-money-0.11.jar\n",
      "-> New file at /var/folders/fv/7k1qk5v11dn33sdcngv2wbnm0000gn/T/toree-tmp-dir4533536512772810563/toree_add_deps/https/repo1.maven.org/maven2/org/joda/joda-money/0.11/joda-money-0.11.pom\n",
      "Obtained 2 files\n"
     ]
    }
   ],
   "source": [
    "%AddDeps org.joda joda-money 0.11 --transitive --trace --verbose"
   ]
  },
  {
   "cell_type": "code",
   "execution_count": 2,
   "metadata": {
    "ExecuteTime": {
     "end_time": "2019-01-26T09:33:09.050491Z",
     "start_time": "2019-01-26T09:33:07.996Z"
    }
   },
   "outputs": [
    {
     "data": {
      "text/plain": [
       "AUD"
      ]
     },
     "execution_count": 2,
     "metadata": {},
     "output_type": "execute_result"
    }
   ],
   "source": [
    "org.joda.money.CurrencyUnit.AUD\n"
   ]
  }
 ],
 "metadata": {
  "kernelspec": {
   "display_name": "Apache Toree - Scala",
   "language": "scala",
   "name": "apache_toree_scala"
  },
  "language_info": {
   "codemirror_mode": "text/x-scala",
   "file_extension": ".scala",
   "mimetype": "text/x-scala",
   "name": "scala",
   "pygments_lexer": "scala",
   "version": "2.11.12"
  },
  "varInspector": {
   "cols": {
    "lenName": 16,
    "lenType": 16,
    "lenVar": 40
   },
   "kernels_config": {
    "python": {
     "delete_cmd_postfix": "",
     "delete_cmd_prefix": "del ",
     "library": "var_list.py",
     "varRefreshCmd": "print(var_dic_list())"
    },
    "r": {
     "delete_cmd_postfix": ") ",
     "delete_cmd_prefix": "rm(",
     "library": "var_list.r",
     "varRefreshCmd": "cat(var_dic_list()) "
    }
   },
   "types_to_exclude": [
    "module",
    "function",
    "builtin_function_or_method",
    "instance",
    "_Feature"
   ],
   "window_display": false
  }
 },
 "nbformat": 4,
 "nbformat_minor": 2
}
