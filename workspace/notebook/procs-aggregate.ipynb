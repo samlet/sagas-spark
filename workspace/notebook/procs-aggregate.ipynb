{
 "cells": [
  {
   "cell_type": "code",
   "execution_count": 1,
   "metadata": {
    "ExecuteTime": {
     "end_time": "2019-01-27T14:36:36.428471Z",
     "start_time": "2019-01-27T14:36:30.925336Z"
    }
   },
   "outputs": [],
   "source": [
    "from pyspark.sql import SparkSession\n",
    "\n",
    "spark = SparkSession \\\n",
    "    .builder \\\n",
    "    .appName(\"Python Spark SQL basic example\") \\\n",
    "    .config(\"spark.some.config.option\", \"some-value\") \\\n",
    "    .getOrCreate()"
   ]
  },
  {
   "cell_type": "code",
   "execution_count": 3,
   "metadata": {
    "ExecuteTime": {
     "end_time": "2019-01-27T14:37:02.891672Z",
     "start_time": "2019-01-27T14:36:58.675969Z"
    }
   },
   "outputs": [
    {
     "name": "stdout",
     "output_type": "stream",
     "text": [
      "+----+---------+-----------------+---------+\n",
      "|col1|sum(col1)|        sum(col2)|sum(col3)|\n",
      "+----+---------+-----------------+---------+\n",
      "|-1.0|     -2.0|6.199999999999999|      0.7|\n",
      "| 1.0|      2.0|              0.8|      1.0|\n",
      "+----+---------+-----------------+---------+\n",
      "\n"
     ]
    }
   ],
   "source": [
    "df = spark.createDataFrame(\n",
    "    [(1.0, 0.3, 1.0), (1.0, 0.5, 0.0), (-1.0, 0.6, 0.5), (-1.0, 5.6, 0.2)],\n",
    "    (\"col1\", \"col2\", \"col3\"))\n",
    "\n",
    "df.groupBy(\"col1\").sum().show()"
   ]
  },
  {
   "cell_type": "code",
   "execution_count": 4,
   "metadata": {
    "ExecuteTime": {
     "end_time": "2019-01-27T14:40:11.566367Z",
     "start_time": "2019-01-27T14:40:10.154626Z"
    }
   },
   "outputs": [
    {
     "name": "stdout",
     "output_type": "stream",
     "text": [
      "+----+-----------------+---------+---------+\n",
      "|col1|        sum(col2)|sum(col3)|sum(col1)|\n",
      "+----+-----------------+---------+---------+\n",
      "|-1.0|6.199999999999999|      0.7|     -2.0|\n",
      "| 1.0|              0.8|      1.0|      2.0|\n",
      "+----+-----------------+---------+---------+\n",
      "\n"
     ]
    }
   ],
   "source": [
    "# You can also pass dictionary / map with columns a the keys and functions as the values:\n",
    "exprs = {x: \"sum\" for x in df.columns}\n",
    "df.groupBy(\"col1\").agg(exprs).show()"
   ]
  }
 ],
 "metadata": {
  "kernelspec": {
   "display_name": "Python 3",
   "language": "python",
   "name": "python3"
  },
  "language_info": {
   "codemirror_mode": {
    "name": "ipython",
    "version": 3
   },
   "file_extension": ".py",
   "mimetype": "text/x-python",
   "name": "python",
   "nbconvert_exporter": "python",
   "pygments_lexer": "ipython3",
   "version": "3.6.4"
  },
  "varInspector": {
   "cols": {
    "lenName": 16,
    "lenType": 16,
    "lenVar": 40
   },
   "kernels_config": {
    "python": {
     "delete_cmd_postfix": "",
     "delete_cmd_prefix": "del ",
     "library": "var_list.py",
     "varRefreshCmd": "print(var_dic_list())"
    },
    "r": {
     "delete_cmd_postfix": ") ",
     "delete_cmd_prefix": "rm(",
     "library": "var_list.r",
     "varRefreshCmd": "cat(var_dic_list()) "
    }
   },
   "types_to_exclude": [
    "module",
    "function",
    "builtin_function_or_method",
    "instance",
    "_Feature"
   ],
   "window_display": false
  }
 },
 "nbformat": 4,
 "nbformat_minor": 2
}
