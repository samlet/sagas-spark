{
 "cells": [
  {
   "cell_type": "markdown",
   "metadata": {},
   "source": [
    "⊕ [structured-streaming-scala.html - Databricks](https://docs.databricks.com/_static/notebooks/structured-streaming-scala.html)\n"
   ]
  },
  {
   "cell_type": "code",
   "execution_count": 1,
   "metadata": {
    "ExecuteTime": {
     "end_time": "2019-01-27T18:28:05.505989Z",
     "start_time": "2019-01-27T18:28:00.154Z"
    }
   },
   "outputs": [
    {
     "data": {
      "text/plain": [
       "spark = org.apache.spark.sql.SparkSession@23a2ef80\n"
      ]
     },
     "metadata": {},
     "output_type": "display_data"
    },
    {
     "data": {
      "text/plain": [
       "org.apache.spark.sql.SparkSession@23a2ef80"
      ]
     },
     "execution_count": 1,
     "metadata": {},
     "output_type": "execute_result"
    }
   ],
   "source": [
    "val spark = SparkSession.builder.appName(\"Simple Application\").getOrCreate()\n",
    "// For implicit conversions from RDDs to DataFrames\n",
    "import spark.implicits._\n",
    "import org.apache.spark.sql.types._\n",
    "import org.apache.spark.sql._"
   ]
  },
  {
   "cell_type": "markdown",
   "metadata": {},
   "source": [
    "The usual first step in attempting to process the data is to interactively query the data. Let's define a static DataFrame on the files, and give it a table name.\n",
    "\n"
   ]
  },
  {
   "cell_type": "code",
   "execution_count": 4,
   "metadata": {
    "ExecuteTime": {
     "end_time": "2019-01-27T18:28:43.046902Z",
     "start_time": "2019-01-27T18:28:36.024Z"
    }
   },
   "outputs": [
    {
     "name": "stdout",
     "output_type": "stream",
     "text": [
      "+-------------------+------+\n",
      "|               time|action|\n",
      "+-------------------+------+\n",
      "|2016-07-26 11:15:32|  Open|\n",
      "|2016-07-26 11:15:41|  Open|\n",
      "|2016-07-26 11:15:41|  Open|\n",
      "|2016-07-26 11:15:42|  Open|\n",
      "|2016-07-26 11:15:45| Close|\n",
      "|2016-07-26 11:15:46| Close|\n",
      "|2016-07-26 11:15:47|  Open|\n",
      "|2016-07-26 11:15:54| Close|\n",
      "|2016-07-26 11:15:59|  Open|\n",
      "|2016-07-26 11:16:04| Close|\n",
      "|2016-07-26 11:16:04|  Open|\n",
      "|2016-07-26 11:16:09| Close|\n",
      "|2016-07-26 11:16:12| Close|\n",
      "|2016-07-26 11:16:13| Close|\n",
      "|2016-07-26 11:16:13|  Open|\n",
      "|2016-07-26 11:16:14|  Open|\n",
      "|2016-07-26 11:16:15| Close|\n",
      "|2016-07-26 11:16:24|  Open|\n",
      "|2016-07-26 11:16:25|  Open|\n",
      "|2016-07-26 11:16:26| Close|\n",
      "+-------------------+------+\n",
      "only showing top 20 rows\n",
      "\n"
     ]
    },
    {
     "data": {
      "text/plain": [
       "inputPath = ./events/\n",
       "jsonSchema = StructType(StructField(time,TimestampType,true), StructField(action,StringType,true))\n",
       "staticInputDF = [time: timestamp, action: string]\n"
      ]
     },
     "metadata": {},
     "output_type": "display_data"
    },
    {
     "data": {
      "text/plain": [
       "lastException: Throwable = null\n"
      ]
     },
     "metadata": {},
     "output_type": "display_data"
    },
    {
     "data": {
      "text/plain": [
       "[time: timestamp, action: string]"
      ]
     },
     "execution_count": 4,
     "metadata": {},
     "output_type": "execute_result"
    }
   ],
   "source": [
    "import org.apache.spark.sql.types._\n",
    "\n",
    "val inputPath = \"./events/\"\n",
    "\n",
    "// Since we know the data format already, let's define the schema to speed up processing (no need for Spark to infer schema)\n",
    "val jsonSchema = new StructType().add(\"time\", TimestampType).add(\"action\", StringType)\n",
    "\n",
    "val staticInputDF = \n",
    "  spark\n",
    "    .read\n",
    "    .schema(jsonSchema)\n",
    "    .json(inputPath)\n",
    "\n",
    "// display(staticInputDF)\n",
    "staticInputDF.show()"
   ]
  },
  {
   "cell_type": "markdown",
   "metadata": {
    "ExecuteTime": {
     "end_time": "2019-01-27T18:29:36.318078Z",
     "start_time": "2019-01-27T18:29:35.994Z"
    }
   },
   "source": [
    "Now we can compute the number of \"open\" and \"close\" actions with one hour windows. To do this, we will group by the action column and 1 hour windows over the time column.\n",
    "\n"
   ]
  },
  {
   "cell_type": "code",
   "execution_count": 6,
   "metadata": {
    "ExecuteTime": {
     "end_time": "2019-01-27T18:30:13.606593Z",
     "start_time": "2019-01-27T18:30:11.785Z"
    }
   },
   "outputs": [
    {
     "data": {
      "text/plain": [
       "staticCountsDF = [action: string, window: struct<start: timestamp, end: timestamp> ... 1 more field]\n"
      ]
     },
     "metadata": {},
     "output_type": "display_data"
    },
    {
     "data": {
      "text/plain": [
       "[action: string, window: struct<start: timestamp, end: timestamp> ... 1 more field]"
      ]
     },
     "execution_count": 6,
     "metadata": {},
     "output_type": "execute_result"
    }
   ],
   "source": [
    "import org.apache.spark.sql.functions._\n",
    "\n",
    "val staticCountsDF = \n",
    "  staticInputDF\n",
    "    .groupBy($\"action\", window($\"time\", \"1 hour\"))\n",
    "    .count()   \n",
    "\n",
    "// Register the DataFrame as table 'static_counts'\n",
    "staticCountsDF.createOrReplaceTempView(\"static_counts\")"
   ]
  },
  {
   "cell_type": "markdown",
   "metadata": {},
   "source": [
    "Now we can directly use SQL to query the table. For example, here are the total counts across all the hours.\n",
    "\n"
   ]
  },
  {
   "cell_type": "code",
   "execution_count": 10,
   "metadata": {
    "ExecuteTime": {
     "end_time": "2019-01-27T18:31:24.192594Z",
     "start_time": "2019-01-27T18:31:17.469Z"
    }
   },
   "outputs": [
    {
     "data": {
      "text/plain": [
       "+------+-----------+\n",
       "|action|total_count|\n",
       "+------+-----------+\n",
       "|  Open|        367|\n",
       "| Close|         70|\n",
       "+------+-----------+\n",
       "\n"
      ]
     },
     "execution_count": 10,
     "metadata": {},
     "output_type": "execute_result"
    }
   ],
   "source": [
    "%%SQL\n",
    "select action, sum(count) as total_count from static_counts group by action"
   ]
  },
  {
   "cell_type": "markdown",
   "metadata": {},
   "source": [
    "How about a timeline of windowed counts?\n",
    "\n"
   ]
  },
  {
   "cell_type": "code",
   "execution_count": 15,
   "metadata": {
    "ExecuteTime": {
     "end_time": "2019-01-27T18:33:31.415362Z",
     "start_time": "2019-01-27T18:33:28.984Z"
    }
   },
   "outputs": [
    {
     "name": "stdout",
     "output_type": "stream",
     "text": [
      "+------+------------+-----+\n",
      "|action|        time|count|\n",
      "+------+------------+-----+\n",
      "| Close|Jul-26 11:00|   11|\n",
      "|  Open|Jul-26 11:00|  179|\n",
      "| Close|Jul-26 12:00|   59|\n",
      "|  Open|Jul-26 12:00|  188|\n",
      "+------+------------+-----+\n",
      "\n"
     ]
    },
    {
     "data": {
      "text/plain": [
       "df = [action: string, time: string ... 1 more field]\n"
      ]
     },
     "metadata": {},
     "output_type": "display_data"
    },
    {
     "data": {
      "text/plain": [
       "[action: string, time: string ... 1 more field]"
      ]
     },
     "execution_count": 15,
     "metadata": {},
     "output_type": "execute_result"
    }
   ],
   "source": [
    "var df=spark.sql(\"select action, date_format(window.end, \\\"MMM-dd HH:mm\\\") as time, count from static_counts order by time, action\")\n",
    "df.show()"
   ]
  },
  {
   "cell_type": "markdown",
   "metadata": {},
   "source": [
    "## Stream Processing\n",
    "Now that we have analyzed the data interactively, let's convert this to a streaming query that continuously updates as data comes. Since we just have a static set of files, we are going to emulate a stream from them by reading one file at a time, in the chronological order they were created. The query we have to write is pretty much the same as the interactive query above."
   ]
  },
  {
   "cell_type": "code",
   "execution_count": 16,
   "metadata": {
    "ExecuteTime": {
     "end_time": "2019-01-27T18:33:59.410395Z",
     "start_time": "2019-01-27T18:33:57.236Z"
    }
   },
   "outputs": [
    {
     "data": {
      "text/plain": [
       "streamingInputDF = [time: timestamp, action: string]\n",
       "streamingCountsDF = [action: string, window: struct<start: timestamp, end: timestamp> ... 1 more field]\n"
      ]
     },
     "metadata": {},
     "output_type": "display_data"
    },
    {
     "data": {
      "text/plain": [
       "true"
      ]
     },
     "execution_count": 16,
     "metadata": {},
     "output_type": "execute_result"
    }
   ],
   "source": [
    "import org.apache.spark.sql.functions._\n",
    "\n",
    "// Similar to definition of staticInputDF above, just using `readStream` instead of `read`\n",
    "val streamingInputDF = \n",
    "  spark\n",
    "    .readStream                       // `readStream` instead of `read` for creating streaming DataFrame\n",
    "    .schema(jsonSchema)               // Set the schema of the JSON data\n",
    "    .option(\"maxFilesPerTrigger\", 1)  // Treat a sequence of files as a stream by picking one file at a time\n",
    "    .json(inputPath)\n",
    "\n",
    "// Same query as staticInputDF\n",
    "val streamingCountsDF = \n",
    "  streamingInputDF\n",
    "    .groupBy($\"action\", window($\"time\", \"1 hour\"))\n",
    "    .count()\n",
    "\n",
    "// Is this DF actually a streaming DF?\n",
    "streamingCountsDF.isStreaming"
   ]
  },
  {
   "cell_type": "markdown",
   "metadata": {},
   "source": [
    "As you can see, streamingCountsDF is a streaming Dataframe (streamingCountsDF.isStreaming was true). You can start streaming computation, by defining the sink and starting it. In our case, we want to interactively query the counts (same queries as above), so we will set the complete set of 1 hour counts to be a in a in-memory table (note that this for testing purpose only in Spark 2.0).\n",
    "\n"
   ]
  },
  {
   "cell_type": "code",
   "execution_count": 17,
   "metadata": {
    "ExecuteTime": {
     "end_time": "2019-01-27T18:34:22.709908Z",
     "start_time": "2019-01-27T18:34:20.497Z"
    }
   },
   "outputs": [
    {
     "data": {
      "text/plain": [
       "query = org.apache.spark.sql.execution.streaming.StreamingQueryWrapper@5baa605a\n"
      ]
     },
     "metadata": {},
     "output_type": "display_data"
    },
    {
     "data": {
      "text/plain": [
       "org.apache.spark.sql.execution.streaming.StreamingQueryWrapper@5baa605a"
      ]
     },
     "execution_count": 17,
     "metadata": {},
     "output_type": "execute_result"
    }
   ],
   "source": [
    "spark.conf.set(\"spark.sql.shuffle.partitions\", \"1\")  // keep the size of shuffles small\n",
    "\n",
    "val query =\n",
    "  streamingCountsDF\n",
    "    .writeStream\n",
    "    .format(\"memory\")        // memory = store in-memory table (for testing only in Spark 2.0)\n",
    "    .queryName(\"counts\")     // counts = name of the in-memory table\n",
    "    .outputMode(\"complete\")  // complete = all the counts should be in the table\n",
    "    .start()"
   ]
  },
  {
   "cell_type": "markdown",
   "metadata": {},
   "source": [
    "query is a handle to the streaming query that is running in the background. This query is continuously picking up files and updating the windowed counts.\n",
    "\n",
    "Note the status of query in the above cell. The progress bar shows that the query is active. Furthermore, if you expand the > counts above, you will find the number of files they have already processed.\n",
    "\n",
    "Let's wait a bit for a few files to be processed and then query the in-memory counts table."
   ]
  },
  {
   "cell_type": "code",
   "execution_count": 18,
   "metadata": {
    "ExecuteTime": {
     "end_time": "2019-01-27T18:34:44.901798Z",
     "start_time": "2019-01-27T18:34:39.551Z"
    }
   },
   "outputs": [],
   "source": [
    "Thread.sleep(5000) // wait a bit for computation to start\n"
   ]
  },
  {
   "cell_type": "code",
   "execution_count": 21,
   "metadata": {
    "ExecuteTime": {
     "end_time": "2019-01-27T18:42:19.917944Z",
     "start_time": "2019-01-27T18:42:18.248Z"
    }
   },
   "outputs": [
    {
     "name": "stdout",
     "output_type": "stream",
     "text": [
      "+------+------------+-----+\n",
      "|action|        time|count|\n",
      "+------+------------+-----+\n",
      "| Close|Jul-26 11:00|   11|\n",
      "|  Open|Jul-26 11:00|  179|\n",
      "| Close|Jul-26 12:00|   59|\n",
      "|  Open|Jul-26 12:00|  188|\n",
      "+------+------------+-----+\n",
      "\n"
     ]
    },
    {
     "data": {
      "text/plain": [
       "sqlstr = select action, date_format(window.end, \"MMM-dd HH:mm\") as time, count from counts order by time, action\n",
       "df = [action: string, time: string ... 1 more field]\n"
      ]
     },
     "metadata": {},
     "output_type": "display_data"
    },
    {
     "data": {
      "text/plain": [
       "[action: string, time: string ... 1 more field]"
      ]
     },
     "execution_count": 21,
     "metadata": {},
     "output_type": "execute_result"
    }
   ],
   "source": [
    "var sqlstr=\"select action, date_format(window.end, \\\"MMM-dd HH:mm\\\") as time, count from counts order by time, action\"\n",
    "var df=spark.sql(sqlstr)\n",
    "df.show()"
   ]
  },
  {
   "cell_type": "markdown",
   "metadata": {},
   "source": [
    "We see the timeline of windowed counts (similar to the static one earlier) building up. If we keep running this interactive query repeatedly, we will see the latest updated counts which the streaming query is updating in the background.\n",
    "\n",
    "Also, let's see the total number of \"opens\" and \"closes\".\n",
    "\n",
    "\n",
    "\n"
   ]
  },
  {
   "cell_type": "code",
   "execution_count": 22,
   "metadata": {
    "ExecuteTime": {
     "end_time": "2019-01-27T18:55:42.253313Z",
     "start_time": "2019-01-27T18:55:40.178Z"
    },
    "scrolled": true
   },
   "outputs": [
    {
     "name": "stdout",
     "output_type": "stream",
     "text": [
      "+------+-----------+\n",
      "|action|total_count|\n",
      "+------+-----------+\n",
      "| Close|         70|\n",
      "|  Open|        367|\n",
      "+------+-----------+\n",
      "\n"
     ]
    },
    {
     "data": {
      "text/plain": [
       "sqlstr = select action, sum(count) as total_count from counts group by action order by action\n",
       "df = [action: string, total_count: bigint]\n"
      ]
     },
     "metadata": {},
     "output_type": "display_data"
    },
    {
     "data": {
      "text/plain": [
       "[action: string, total_count: bigint]"
      ]
     },
     "execution_count": 22,
     "metadata": {},
     "output_type": "execute_result"
    }
   ],
   "source": [
    "var sqlstr=\"select action, sum(count) as total_count from counts group by action order by action\"\n",
    "var df=spark.sql(sqlstr)\n",
    "df.show()"
   ]
  },
  {
   "cell_type": "markdown",
   "metadata": {
    "ExecuteTime": {
     "end_time": "2019-01-27T18:55:57.398454Z",
     "start_time": "2019-01-27T18:55:57.028Z"
    }
   },
   "source": [
    "If you keep running the above query repeatedly, you will always find that the number of \"opens\" is more than the number of \"closes\", as expected in a data stream where a \"close\" always appear after corresponding \"open\". This shows that Structured Streaming ensures prefix integrity. Read the blog posts linked below if you want to know more.\n",
    "\n",
    "Note that there are only a few files, so consuming all of them there will be no updates to the counts. Rerun the query if you want to interact with the streaming query again.\n",
    "\n",
    "Finally, you can stop the query running in the background, either by clicking on the 'Cancel' link in the cell of the query, or by executing query.stop(). Either way, when the query is stopped, the status of the corresponding cell above will automatically update to TERMINATED."
   ]
  },
  {
   "cell_type": "code",
   "execution_count": 24,
   "metadata": {
    "ExecuteTime": {
     "end_time": "2019-01-27T18:56:10.251000Z",
     "start_time": "2019-01-27T18:56:09.601Z"
    }
   },
   "outputs": [],
   "source": [
    "query.stop()"
   ]
  }
 ],
 "metadata": {
  "kernelspec": {
   "display_name": "Apache Toree - Scala",
   "language": "scala",
   "name": "apache_toree_scala"
  },
  "language_info": {
   "codemirror_mode": "text/x-scala",
   "file_extension": ".scala",
   "mimetype": "text/x-scala",
   "name": "scala",
   "pygments_lexer": "scala",
   "version": "2.11.12"
  },
  "varInspector": {
   "cols": {
    "lenName": 16,
    "lenType": 16,
    "lenVar": 40
   },
   "kernels_config": {
    "python": {
     "delete_cmd_postfix": "",
     "delete_cmd_prefix": "del ",
     "library": "var_list.py",
     "varRefreshCmd": "print(var_dic_list())"
    },
    "r": {
     "delete_cmd_postfix": ") ",
     "delete_cmd_prefix": "rm(",
     "library": "var_list.r",
     "varRefreshCmd": "cat(var_dic_list()) "
    }
   },
   "types_to_exclude": [
    "module",
    "function",
    "builtin_function_or_method",
    "instance",
    "_Feature"
   ],
   "window_display": false
  }
 },
 "nbformat": 4,
 "nbformat_minor": 2
}
